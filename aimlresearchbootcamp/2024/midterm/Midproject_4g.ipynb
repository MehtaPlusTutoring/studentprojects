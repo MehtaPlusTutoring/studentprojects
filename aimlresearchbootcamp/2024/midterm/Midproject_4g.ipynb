{
  "cells": [
    {
      "cell_type": "markdown",
      "metadata": {
        "id": "HwYcCYwhsBZk"
      },
      "source": [
        "Install and import all the things"
      ]
    },
    {
      "cell_type": "code",
      "execution_count": null,
      "metadata": {
        "colab": {
          "base_uri": "https://localhost:8080/"
        },
        "id": "ssT6WxYiXgr6",
        "outputId": "38eafecf-7b02-4f5f-9b6f-47f82b37bda7"
      },
      "outputs": [
        {
          "name": "stdout",
          "output_type": "stream",
          "text": [
            "Collecting serpapi\n",
            "  Downloading serpapi-0.1.5-py2.py3-none-any.whl (10 kB)\n",
            "Requirement already satisfied: requests in /usr/local/lib/python3.10/dist-packages (from serpapi) (2.31.0)\n",
            "Requirement already satisfied: charset-normalizer<4,>=2 in /usr/local/lib/python3.10/dist-packages (from requests->serpapi) (3.3.2)\n",
            "Requirement already satisfied: idna<4,>=2.5 in /usr/local/lib/python3.10/dist-packages (from requests->serpapi) (3.7)\n",
            "Requirement already satisfied: urllib3<3,>=1.21.1 in /usr/local/lib/python3.10/dist-packages (from requests->serpapi) (2.0.7)\n",
            "Requirement already satisfied: certifi>=2017.4.17 in /usr/local/lib/python3.10/dist-packages (from requests->serpapi) (2024.7.4)\n",
            "Installing collected packages: serpapi\n",
            "Successfully installed serpapi-0.1.5\n"
          ]
        }
      ],
      "source": [
        "!pip install serpapi"
      ]
    },
    {
      "cell_type": "code",
      "execution_count": null,
      "metadata": {
        "id": "kmPXEMQVR6NY"
      },
      "outputs": [],
      "source": [
        "import pandas as pd\n",
        "from google.colab import drive\n",
        "from bs4 import BeautifulSoup\n",
        "import requests\n",
        "from transformers import pipeline, GPT2Tokenizer, GPT2LMHeadModel"
      ]
    },
    {
      "cell_type": "markdown",
      "metadata": {
        "id": "RuR4-ZFasIpC"
      },
      "source": [
        "Mount and read the list of gifts for UN"
      ]
    },
    {
      "cell_type": "code",
      "execution_count": null,
      "metadata": {
        "colab": {
          "background_save": true
        },
        "id": "jy8HH0JPj55q"
      },
      "outputs": [],
      "source": [
        "drive.mount('/content/drive/')\n",
        "dataset = '/content/drive/MyDrive/List_gifts_for_UN.csv'\n",
        "df = pd.read_csv(dataset)"
      ]
    },
    {
      "cell_type": "markdown",
      "metadata": {
        "id": "WaZg0OEKsgNL"
      },
      "source": [
        "# Define function"
      ]
    },
    {
      "cell_type": "markdown",
      "metadata": {
        "id": "Vyv5us5HsmEo"
      },
      "source": [
        "Function to find the row of the inputted gift in dataset"
      ]
    },
    {
      "cell_type": "code",
      "execution_count": null,
      "metadata": {
        "colab": {
          "background_save": true
        },
        "id": "TgbFtSqgsX1M"
      },
      "outputs": [],
      "source": [
        "gift_name = input(\"Enter the name of your gift : \")\n",
        "\n",
        "def find_gift(gift_name, df):\n",
        "      row_number = None\n",
        "      for index, row in df.iterrows():\n",
        "          if row['Name'].lower() == gift_name.lower():\n",
        "              row_number = index\n",
        "              break\n",
        "      return row_number"
      ]
    },
    {
      "cell_type": "markdown",
      "metadata": {
        "id": "-XMUVjPVs8xZ"
      },
      "source": [
        "Function to measure the significance based on the motives behind the gift"
      ]
    },
    {
      "cell_type": "code",
      "execution_count": null,
      "metadata": {
        "colab": {
          "background_save": true
        },
        "id": "h5L4DXiptGR6"
      },
      "outputs": [],
      "source": [
        "def reason_significance(gift_name, df):\n",
        "    row_number = find_gift(gift_name, df)\n",
        "    if row_number is not None:\n",
        "      row = df.iloc[row_number]\n",
        "      reason_column = row['reason/ circumstance of gift'].lower()\n",
        "      keywords = [\"anniversary\", \"admission\", \"allegiance\", \"accepted\"]\n",
        "      significance_reasons = 0\n",
        "      for keyword in keywords:\n",
        "        if keyword in reason_column:\n",
        "          significance_reasons = 1\n",
        "          break\n",
        "      gift_year = row['date of gift (either formally given/arrived in new home)']\n",
        "      return significance_reasons, gift_year\n",
        "    else:\n",
        "      return 0, None"
      ]
    },
    {
      "cell_type": "markdown",
      "metadata": {
        "id": "EoKCgFsitH3b"
      },
      "source": [
        "Function to search for the main question to know if there are relevant links"
      ]
    },
    {
      "cell_type": "code",
      "execution_count": null,
      "metadata": {
        "colab": {
          "background_save": true
        },
        "id": "uvPr-dd2tW7h"
      },
      "outputs": [],
      "source": [
        "import serpapi\n",
        "api_key = 'YOUR API KEY'\n",
        "\n",
        "def find_impact(gift_name, api_key):\n",
        "    params = {\n",
        "        \"q\": f\"gifting the {gift_name} to UN diplomatic constraints\",\n",
        "        \"hl\": \"en\",\n",
        "        \"google_domain\": \"google.com\",\n",
        "        \"api_key\": api_key\n",
        "    }\n",
        "\n",
        "    search = serpapi.search(params)\n",
        "\n",
        "    relevant_links = []\n",
        "    if \"organic_results\" in search:\n",
        "        for i in search[\"organic_results\"]:\n",
        "            relevant_links.append(i[\"link\"])\n",
        "\n",
        "    return relevant_links"
      ]
    },
    {
      "cell_type": "markdown",
      "metadata": {
        "id": "Q1rv-_3rtYR8"
      },
      "source": [
        "Function to calculate the significance by adding the previous factors"
      ]
    },
    {
      "cell_type": "code",
      "execution_count": null,
      "metadata": {
        "colab": {
          "background_save": true
        },
        "id": "WNvmq1Bnth4U"
      },
      "outputs": [],
      "source": [
        "def calculate_significance(gift_name, df, api_key):\n",
        "    significance_reasons, gift_year = reason_significance(gift_name, df)\n",
        "    relevant_links = find_impact(gift_name, api_key)\n",
        "    significance_impact = 1 if relevant_links else 0\n",
        "    overall_significance = significance_reasons + significance_impact\n",
        "    return overall_significance, significance_reasons, significance_impact, relevant_links, gift_year"
      ]
    },
    {
      "cell_type": "markdown",
      "metadata": {
        "id": "AEPvOxuXtigt"
      },
      "source": [
        "Function to generate directly the answer for the main question"
      ]
    },
    {
      "cell_type": "code",
      "execution_count": null,
      "metadata": {
        "colab": {
          "background_save": true
        },
        "id": "ML_fNVtXtsNI"
      },
      "outputs": [],
      "source": [
        "def generate_context(gift_name, gift_year):\n",
        "    prompt = f\"Why is giving {gift_name} gift in {gift_year} to UN significant in the context of global history?\"\n",
        "    tokenizer = GPT2Tokenizer.from_pretrained('gpt2')\n",
        "    model = GPT2LMHeadModel.from_pretrained('gpt2')\n",
        "\n",
        "    inputs = tokenizer(prompt, return_tensors=\"pt\", max_length=512, truncation=True)\n",
        "    outputs = model.generate(inputs['input_ids'], max_length=300, num_return_sequences=1, no_repeat_ngram_size=2)\n",
        "    generated_text = tokenizer.decode(outputs[0], skip_special_tokens=True)\n",
        "\n",
        "    return generated_text"
      ]
    },
    {
      "cell_type": "markdown",
      "metadata": {
        "id": "jfvXnfDZts3m"
      },
      "source": [
        "Function to calculate the accuracy based on whether the factor which we use for defining the impact (diplomatic constraint) is found in the answer generated by the previous function"
      ]
    },
    {
      "cell_type": "code",
      "execution_count": null,
      "metadata": {
        "colab": {
          "background_save": true
        },
        "id": "RhpA-Q2st0kD"
      },
      "outputs": [],
      "source": [
        "def accuracy_calculation (gift_name, generated_context):\n",
        "    if f\"gfting the {gift_name} had an impact\" or f\"gifting the {gift_name} resulted in diplomatic constraints\" in generated_context:\n",
        "        return \"The context is highly relevant and informative.\"\n",
        "    else:\n",
        "        return \"The Context is somewhat general, lacking specific historical insights.\""
      ]
    },
    {
      "cell_type": "markdown",
      "metadata": {
        "id": "0BfzLA35uOSv"
      },
      "source": [
        "Main function"
      ]
    },
    {
      "cell_type": "code",
      "execution_count": null,
      "metadata": {
        "colab": {
          "background_save": true
        },
        "id": "egfNtT6quWGm"
      },
      "outputs": [],
      "source": [
        "def main():\n",
        "    api_key = \"YOUR API KEY\"\n",
        "\n",
        "    if gift_name.lower() in [name.lower() for name in df['Name'].values]:\n",
        "        overall_significance, significance_reasons, significance_impact, relevant_links, gift_year = calculate_significance(gift_name, df, api_key)\n",
        "        if overall_significance == 2:\n",
        "            print(f\"{gift_name} has a great significance\")\n",
        "        elif overall_significance == 1:\n",
        "            print(f\"{gift_name} has a good significance\")\n",
        "        else:\n",
        "            print(f\"{gift_name} has no significance\")\n",
        "\n",
        "        print(f\"Overall Significance: {overall_significance}\")\n",
        "        print(f\"Reason Significance: {significance_reasons}\")\n",
        "        print(f\"Impact Score: {significance_impact}\")\n",
        "\n",
        "        if relevant_links:\n",
        "            req = requests.get(relevant_links[0], headers={'User-Agent': 'Mozilla/5.0'})\n",
        "            webpage = req.text\n",
        "            html = BeautifulSoup(webpage, 'html.parser')\n",
        "            paragraphs = html.select(\"p\")\n",
        "            for para in paragraphs:\n",
        "                print(para.text)\n",
        "\n",
        "        if gift_year:\n",
        "            context = generate_context(gift_name, gift_year)\n",
        "            print(f\"\\nMain Question: {context}\")\n",
        "            accuracy = accuracy_calculation(gift_name, context)\n",
        "            print(f\"\\nEvaluation of the answer: {accuracy}\")\n",
        "\n",
        "    else:\n",
        "        print(\"Gift is not found in the list.\")"
      ]
    },
    {
      "cell_type": "code",
      "execution_count": null,
      "metadata": {
        "colab": {
          "background_save": true
        },
        "id": "hL8z9PBRua7g"
      },
      "outputs": [],
      "source": [
        "main()"
      ]
    }
  ],
  "metadata": {
    "colab": {
      "provenance": []
    },
    "kernelspec": {
      "display_name": "Python 3",
      "name": "python3"
    },
    "language_info": {
      "name": "python"
    }
  },
  "nbformat": 4,
  "nbformat_minor": 0
}