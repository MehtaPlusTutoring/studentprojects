{
  "cells": [
    {
      "cell_type": "markdown",
      "metadata": {
        "id": "RgvSUPoYiogZ"
      },
      "source": [
        "###UN website information"
      ]
    },
    {
      "cell_type": "code",
      "execution_count": null,
      "metadata": {
        "collapsed": true,
        "id": "RMsWG65pssRs"
      },
      "outputs": [],
      "source": [
        "#Cell 1\n",
        "\n",
        "# Import the libraries we will need for scrapping\n",
        "from urllib.request import Request, urlopen\n",
        "from bs4 import BeautifulSoup\n",
        "# Import the necessary libraries for Google Gemini\n",
        "from google.generativeai.types import HarmCategory, HarmBlockThreshold\n",
        "import os\n",
        "import google.generativeai as genai"
      ]
    },
    {
      "cell_type": "code",
      "execution_count": null,
      "metadata": {
        "colab": {
          "base_uri": "https://localhost:8080/"
        },
        "id": "q6r17SPrWlAS",
        "outputId": "0be22090-8c49-4a44-9a08-0542db9788c7"
      },
      "outputs": [
        {
          "name": "stdout",
          "output_type": "stream",
          "text": [
            "Enter the UN gift object: Replica of \"The Golden Man\"\n",
            "Enter the url of the appropriate UN website: https://www.un.org/ungifts/replica-%E2%80%9C-golden-man%E2%80%9D\n"
          ]
        }
      ],
      "source": [
        "#Cell 2\n",
        "\n",
        "# Prompts the user to enter a particular UN gift object\n",
        "question_insert = input(\"Enter the UN gift object: \")\n",
        "# Prompts the user to enter the link of the UN website for a particular object\n",
        "url = input(\"Enter the url of the appropriate UN website: \")\n",
        "# Initializes question to a question with a particular UN object\n",
        "question = f\"Why was {question_insert} object given to the UN?\""
      ]
    },
    {
      "cell_type": "code",
      "execution_count": null,
      "metadata": {
        "id": "_Ek2BN0GzWAv"
      },
      "outputs": [],
      "source": [
        "# Cell 3\n",
        "\n",
        "# Reaches to the appropriate UN website page\n",
        "req = Request(\n",
        "    url=url,\n",
        "    headers={'User-Agent': 'Mozilla/5.0'}\n",
        ")\n",
        "# Initialize webpage to the url reader\n",
        "webpage = urlopen(req).read()"
      ]
    },
    {
      "cell_type": "code",
      "execution_count": null,
      "metadata": {
        "id": "JLD8jGx3ztKP"
      },
      "outputs": [],
      "source": [
        "# Cell 4\n",
        "\n",
        "# Initialize webpage to the website scrapper\n",
        "webpage = BeautifulSoup(webpage, 'html.parser')\n",
        "# Direct the scrapper to the appropriate classes to extract the text\n",
        "results = webpage.find_all(\"div\", class_=\"panel-panel-inner\")\n",
        "description = results[1].find_all(\"div\", class_=\"field-type-text-with-summary\")"
      ]
    },
    {
      "cell_type": "code",
      "execution_count": null,
      "metadata": {
        "id": "2EDWrCrK0dwW"
      },
      "outputs": [],
      "source": [
        "# Cell 5\n",
        "\n",
        "# Remove unnecessary text\n",
        "cleantext = BeautifulSoup(description[0].text, \"lxml\").text.replace(\"\\n\", \"\").replace(\"\\xa0\", \"\")"
      ]
    },
    {
      "cell_type": "code",
      "execution_count": null,
      "metadata": {
        "id": "q1QIbkuk7zQ9"
      },
      "outputs": [],
      "source": [
        "# Cell 6\n",
        "\n",
        "# API key for Google Gemini\n",
        "API_KEY = \"FILL IN YOUR OWN API KEY HERE\""
      ]
    },
    {
      "cell_type": "code",
      "execution_count": null,
      "metadata": {
        "colab": {
          "base_uri": "https://localhost:8080/",
          "height": 233
        },
        "id": "A5YIi8bQ8JKW",
        "outputId": "b6a29593-b961-45e6-88bf-e0620cb1b01a"
      },
      "outputs": [
        {
          "output_type": "stream",
          "name": "stdout",
          "text": [
            "The replica of \"The Golden Man\" was given to the UN as a symbol of Kazakhstan's national heritage and to showcase the country's rich history and culture to the international community. \n",
            "\n",
            "Here's a breakdown of the reasons:\n",
            "\n",
            "* **National Heritage:** The Golden Man is a significant archaeological find that represents the developed culture of the Kazakh people during the 1st millennium BCE. \n",
            "* **International Recognition:** By gifting the replica to the UN, Kazakhstan was seeking international recognition for its cultural heritage and historical importance.\n",
            "* **Diplomacy and Goodwill:** The gift was a gesture of goodwill and diplomacy from Kazakhstan to the international community.\n",
            "* **Cultural Exchange:** It facilitated cultural exchange and understanding between Kazakhstan and other nations. \n",
            "\n",
            "The Golden Man replica's journey to various exhibitions in Europe, the Middle East, and Asia further amplified its role as a symbol of Kazakhstan's cultural heritage and its importance in international cultural discourse. \n",
            "\n"
          ]
        }
      ],
      "source": [
        "# Cell 7\n",
        "\n",
        "genai.configure(api_key=API_KEY)\n",
        "\n",
        "# Create the model\n",
        "# See https://ai.google.dev/api/python/google/generativeai/GenerativeModel\n",
        "generation_config = {\n",
        "  \"temperature\": 1,\n",
        "  \"top_p\": 0.95,\n",
        "  \"top_k\": 64,\n",
        "  \"max_output_tokens\": 8192,\n",
        "  \"response_mime_type\": \"text/plain\",\n",
        "}\n",
        "\n",
        "model = genai.GenerativeModel(\n",
        "  model_name=\"gemini-1.5-flash\",\n",
        "  generation_config=generation_config,\n",
        "  safety_settings = {\n",
        "        HarmCategory.HARM_CATEGORY_SEXUALLY_EXPLICIT: HarmBlockThreshold.BLOCK_ONLY_HIGH, #given we are asking a question about goddess of love,\n",
        "        #unfortunately, we need to allow some material that is considered sexually explicit (even though it's not really)\n",
        "    }\n",
        "  # See https://ai.google.dev/gemini-api/docs/safety-settings\n",
        ")\n",
        "\n",
        "chat_session = model.start_chat(\n",
        "  history=[\n",
        "  ] #currently, no chat history\n",
        ")\n",
        "\n",
        "# Sends message to the model\n",
        "response = chat_session.send_message(f'Given {cleantext}, answer {question}')\n",
        "\n",
        "# Prints out the response\n",
        "print(response.text)"
      ]
    },
    {
      "cell_type": "code",
      "execution_count": null,
      "metadata": {
        "colab": {
          "base_uri": "https://localhost:8080/"
        },
        "id": "uAjDMXvye6UP",
        "outputId": "bb7a3af6-83e3-476b-8fb6-490a620a6e4e"
      },
      "outputs": [
        {
          "name": "stdout",
          "output_type": "stream",
          "text": [
            "Do you want to search further in Google (1) or is the answer sufficient (2)?(Enter 1 or 2) 1\n"
          ]
        }
      ],
      "source": [
        "# Cell 8\n",
        "\n",
        "# Asks the user whether they want to research more in Google or if the answer is satisfactory\n",
        "search_on = input(\"Do you want to search further in Google (1) or is the answer sufficient (2)?(Enter 1 or 2) \")"
      ]
    },
    {
      "cell_type": "markdown",
      "source": [
        "###Further Google Search"
      ],
      "metadata": {
        "id": "DKqlnW27lQVy"
      }
    },
    {
      "cell_type": "code",
      "source": [
        "# Cell 9\n",
        "\n",
        "# Necessary libraries for Google Search\n",
        "!pip install google-api-python-client\n",
        "import requests\n",
        "from googleapiclient.discovery import build"
      ],
      "metadata": {
        "id": "A28Yn1oAl4hq",
        "colab": {
          "base_uri": "https://localhost:8080/"
        },
        "collapsed": true,
        "outputId": "b5567059-ba8c-408a-a7f9-50bafe797fd7"
      },
      "execution_count": null,
      "outputs": [
        {
          "output_type": "stream",
          "name": "stdout",
          "text": [
            "Requirement already satisfied: google-api-python-client in /usr/local/lib/python3.10/dist-packages (2.84.0)\n",
            "Requirement already satisfied: httplib2<1dev,>=0.15.0 in /usr/local/lib/python3.10/dist-packages (from google-api-python-client) (0.22.0)\n",
            "Requirement already satisfied: google-auth<3.0.0dev,>=1.19.0 in /usr/local/lib/python3.10/dist-packages (from google-api-python-client) (2.27.0)\n",
            "Requirement already satisfied: google-auth-httplib2>=0.1.0 in /usr/local/lib/python3.10/dist-packages (from google-api-python-client) (0.1.1)\n",
            "Requirement already satisfied: google-api-core!=2.0.*,!=2.1.*,!=2.2.*,!=2.3.0,<3.0.0dev,>=1.31.5 in /usr/local/lib/python3.10/dist-packages (from google-api-python-client) (2.16.2)\n",
            "Requirement already satisfied: uritemplate<5,>=3.0.1 in /usr/local/lib/python3.10/dist-packages (from google-api-python-client) (4.1.1)\n",
            "Requirement already satisfied: googleapis-common-protos<2.0.dev0,>=1.56.2 in /usr/local/lib/python3.10/dist-packages (from google-api-core!=2.0.*,!=2.1.*,!=2.2.*,!=2.3.0,<3.0.0dev,>=1.31.5->google-api-python-client) (1.63.2)\n",
            "Requirement already satisfied: protobuf!=3.20.0,!=3.20.1,!=4.21.0,!=4.21.1,!=4.21.2,!=4.21.3,!=4.21.4,!=4.21.5,<5.0.0.dev0,>=3.19.5 in /usr/local/lib/python3.10/dist-packages (from google-api-core!=2.0.*,!=2.1.*,!=2.2.*,!=2.3.0,<3.0.0dev,>=1.31.5->google-api-python-client) (3.20.3)\n",
            "Requirement already satisfied: requests<3.0.0.dev0,>=2.18.0 in /usr/local/lib/python3.10/dist-packages (from google-api-core!=2.0.*,!=2.1.*,!=2.2.*,!=2.3.0,<3.0.0dev,>=1.31.5->google-api-python-client) (2.31.0)\n",
            "Requirement already satisfied: cachetools<6.0,>=2.0.0 in /usr/local/lib/python3.10/dist-packages (from google-auth<3.0.0dev,>=1.19.0->google-api-python-client) (5.3.3)\n",
            "Requirement already satisfied: pyasn1-modules>=0.2.1 in /usr/local/lib/python3.10/dist-packages (from google-auth<3.0.0dev,>=1.19.0->google-api-python-client) (0.4.0)\n",
            "Requirement already satisfied: rsa<5,>=3.1.4 in /usr/local/lib/python3.10/dist-packages (from google-auth<3.0.0dev,>=1.19.0->google-api-python-client) (4.9)\n",
            "Requirement already satisfied: pyparsing!=3.0.0,!=3.0.1,!=3.0.2,!=3.0.3,<4,>=2.4.2 in /usr/local/lib/python3.10/dist-packages (from httplib2<1dev,>=0.15.0->google-api-python-client) (3.1.2)\n",
            "Requirement already satisfied: pyasn1<0.7.0,>=0.4.6 in /usr/local/lib/python3.10/dist-packages (from pyasn1-modules>=0.2.1->google-auth<3.0.0dev,>=1.19.0->google-api-python-client) (0.6.0)\n",
            "Requirement already satisfied: charset-normalizer<4,>=2 in /usr/local/lib/python3.10/dist-packages (from requests<3.0.0.dev0,>=2.18.0->google-api-core!=2.0.*,!=2.1.*,!=2.2.*,!=2.3.0,<3.0.0dev,>=1.31.5->google-api-python-client) (3.3.2)\n",
            "Requirement already satisfied: idna<4,>=2.5 in /usr/local/lib/python3.10/dist-packages (from requests<3.0.0.dev0,>=2.18.0->google-api-core!=2.0.*,!=2.1.*,!=2.2.*,!=2.3.0,<3.0.0dev,>=1.31.5->google-api-python-client) (3.7)\n",
            "Requirement already satisfied: urllib3<3,>=1.21.1 in /usr/local/lib/python3.10/dist-packages (from requests<3.0.0.dev0,>=2.18.0->google-api-core!=2.0.*,!=2.1.*,!=2.2.*,!=2.3.0,<3.0.0dev,>=1.31.5->google-api-python-client) (2.0.7)\n",
            "Requirement already satisfied: certifi>=2017.4.17 in /usr/local/lib/python3.10/dist-packages (from requests<3.0.0.dev0,>=2.18.0->google-api-core!=2.0.*,!=2.1.*,!=2.2.*,!=2.3.0,<3.0.0dev,>=1.31.5->google-api-python-client) (2024.6.2)\n"
          ]
        }
      ]
    },
    {
      "cell_type": "code",
      "execution_count": null,
      "metadata": {
        "colab": {
          "base_uri": "https://localhost:8080/",
          "height": 180
        },
        "id": "VJvS7A18X5Zl",
        "outputId": "548220b0-8952-4142-f3ff-51b684aa046d",
        "collapsed": true
      },
      "outputs": [
        {
          "output_type": "stream",
          "name": "stdout",
          "text": [
            "Here are 5 possible queries to help research why the replica of the Golden Man was given to the UN:\n",
            "\n",
            "1. **\"Kazakhstan's foreign policy in the 1990s\"**: This broad query would help understand the overall diplomatic goals of Kazakhstan during the time the replica was gifted, which could shed light on the motivations behind the gift.\n",
            "2. **\"Nursultan Nazarbayev and cultural diplomacy\"**: This query focuses on the specific actions of the Kazakh president during his time in office, specifically his use of cultural diplomacy and potential connections to the Golden Man replica gift.\n",
            "3. **\"The Golden Man and Kazakh national identity\"**: This query explores the importance of the Golden Man artifact to Kazakh national identity and how this might have influenced the decision to gift a replica to the UN. \n",
            "4. **\"The United Nations and cultural heritage preservation\"**: This query examines the UN's interest in cultural heritage preservation and its relationship with gifting artifacts. It might reveal if there was a specific program or initiative that prompted the gift.\n",
            "5. **\"Press coverage of the Golden Man replica gift to the UN\"**:  This query would search for any news articles, press releases, or official statements from Kazakhstan or the UN regarding the gifting of the replica. These sources could offer direct insights into the reasons for the gift. \n",
            "\n"
          ]
        }
      ],
      "source": [
        "# Cell 10\n",
        "\n",
        "# If the user enters 1, Gemini gives 5 possible Google queries to continue research. Otherwise, the program terminates.\n",
        "if search_on == '1':\n",
        "  queries = chat_session.send_message(f'Given your previous answers and {cleantext}, give 5 possible queries that will help research the question {question}')\n",
        "  print(queries.text)\n",
        "else:\n",
        "  print(\"Bye, thank you!\")\n",
        "  exit()\n"
      ]
    },
    {
      "cell_type": "code",
      "execution_count": null,
      "metadata": {
        "colab": {
          "base_uri": "https://localhost:8080/"
        },
        "id": "4B5TqOMJDagb",
        "outputId": "1b79e2be-51a3-4d63-ab01-bde31bd04013"
      },
      "outputs": [
        {
          "output_type": "stream",
          "name": "stdout",
          "text": [
            "Copy and paste one of the queries here: Kazakhstan's foreign policy in the 1990s\n",
            "\n",
            "1. Title: Kazakhstan and Central Asia in the 1990s | The Washington Institute\n",
            "   Snippet: Apr 27, 1992 ... We plan to pursue a foreign policy based on peace, mutual respect and a firm commitment to keep international treaties and obligations. Over ...\n",
            "   Link: https://www.washingtoninstitute.org/policy-analysis/kazakhstan-and-central-asia-1990s\n",
            "\n",
            "\n",
            "2. Title: A Rising Global Player: Kazakhstan's Foreign Policy in the 2020s\n",
            "   Snippet: Nazarbayev (1990–2019), Kazakhstan efficiently balanced its relations with Russia, China, and the U.S.. For Kazakhstan to maintain and advance its current.\n",
            "   Link: https://www.wilsoncenter.org/sites/default/files/media/uploads/documents/KI_200514_cable%2051_v1.pdf\n",
            "\n",
            "\n",
            "3. Title: Between the bear and the dragon: multivectorism in Kazakhstan as ...\n",
            "   Snippet: These regional and international diplomatic efforts highlight Kazakhstan's ability to act ... Since the 1990s Kazakhstan has followed a foreign policy strategy of ...\n",
            "   Link: https://academic.oup.com/ia/article/96/4/975/5855019\n",
            "\n",
            "\n",
            "4. Title: Kennan Cable No. 51: A Rising Global Player: Kazakhstan's Foreign ...\n",
            "   Snippet: 51: A Rising Global Player: Kazakhstan's Foreign Policy in the 2020s. First ... During the presidency of longtime leader Nursultan Nazarbayev (1990–2019), ...\n",
            "   Link: https://www.wilsoncenter.org/publication/kennan-cable-no-51-rising-global-player-kazakhstans-foreign-policy-2020s\n",
            "\n",
            "\n",
            "5. Title: Will the Crisis in Kazakhstan Signal Change in Its Foreign Policy ...\n",
            "   Snippet: Jan 11, 2022 ... ... 1990s, supported by the West as a counterweight to the Soviet planned economy and expansionism. The strategy followed by former president ...\n",
            "   Link: https://carnegieendowment.org/posts/2022/01/will-the-crisis-in-kazakhstan-signal-change-in-its-foreign-policy?lang=en&center=russia-eurasia\n",
            "\n",
            "\n",
            "6. Title: THE COST OF PRAGMATISM OF KAZAKHSTAN'S FOREIGN POLICY\n",
            "   Snippet: Jun 11, 2020 ... The second success of. Page 3. 3. Kazakhstan's foreign policy in the 1990s can be attributed to its attempts to distance itself from economic ...\n",
            "   Link: https://hollingscenter.org/wp-content/uploads/2020/09/CCA-PB2-EN.pdf\n",
            "\n",
            "\n",
            "7. Title: Kazakhstan's Role in International Mediation under Nursultan ...\n",
            "   Snippet: ... 1990s primarily by his historic decision to renounce Kazakhstan's ... First, Kazakhstan's meritocratic approach to personnel policy in foreign affairs ...\n",
            "   Link: https://www.isdp.eu/publication/kazakhstans-role-in-international-mediation-under-first-president-nursultan-nazarbayev/\n",
            "\n",
            "\n",
            "8. Title: Is Kazakhstan's Multi-Vector Foreign Policy Threatened?\n",
            "   Snippet: shift in the country's foreign policy. Finally, President Tokayev, who helped lay the foundation of Kazakhstan's multi- vector foreign policy in the early 1990s ...\n",
            "   Link: https://www.jstor.org/stable/48686708\n",
            "\n",
            "\n",
            "9. Title: Kazakhstan\n",
            "   Snippet: ... Kazakhstan's economic competitiveness, and strengthening economic relations with neighboring states and foreign powers. ... affairs, and foreign affairs elections ...\n",
            "   Link: https://www.cia.gov/the-world-factbook/countries/kazakhstan/\n",
            "\n",
            "\n",
            "10. Title: Peace Through Engagement: The Multi-Vector Direction of ...\n",
            "   Snippet: Mar 9, 2021 ... Peace Through Engagement: The Multi-Vector Direction of Kazakhstan's Foreign Policy. ... And if in the early 90s there were only 16 states ...\n",
            "   Link: https://astanatimes.com/2021/03/peace-through-engagement-the-multi-vector-direction-of-kazakhstans-foreign-policy/\n",
            "\n",
            "\n"
          ]
        }
      ],
      "source": [
        "# Cell 11\n",
        "\n",
        "# Prompts the user to enter a query from the above\n",
        "query_choice = input(\"Copy and paste one of the queries here: \")\n",
        "print()\n",
        "\n",
        "# Defining and creating a Google search function\n",
        "def google_search(query, api_key, cse_id, **kwargs):\n",
        "    service = build(\"customsearch\", \"v1\", developerKey=api_key)\n",
        "    res = service.cse().list(q=query, cx=cse_id, **kwargs).execute()\n",
        "    return res['items']\n",
        "\n",
        "# Input variable\n",
        "x = query_choice\n",
        "\n",
        "# API key and cse id\n",
        "apikey = \"FILL IN YOUR OWN API KEY HERE\"\n",
        "cse_id = \"c70e5c793d2694b5f\"\n",
        "\n",
        "# Perform the search\n",
        "results = google_search(x, apikey, cse_id) # Pass the apikey and cse_id to the function\n",
        "\n",
        "# Print the relevant facts\n",
        "for i, result in enumerate(results):\n",
        "    print(f\"{i + 1}. Title: {result['title']}\")\n",
        "    print(f\"   Snippet: {result['snippet']}\")\n",
        "    print(f\"   Link: {result['link']}\")\n",
        "    print(\"\\n\")"
      ]
    },
    {
      "cell_type": "code",
      "execution_count": null,
      "metadata": {
        "colab": {
          "base_uri": "https://localhost:8080/"
        },
        "id": "965qa5MDetLu",
        "outputId": "64dc90e8-b5e0-4cf9-f8de-5592fe5faddc"
      },
      "outputs": [
        {
          "metadata": {
            "tags": null
          },
          "name": "stdout",
          "output_type": "stream",
          "text": [
            "The Washington Institute report emphasizes Kazakhstan's focus on building a strong national identity and securing international recognition in the 1990s, following its independence from the Soviet Union. The report highlights Kazakhstan's proactive engagement with the international community, including its efforts to promote cultural exchange and cooperation. This context suggests that the gifting of the Golden Man replica to the UN could have been a strategic move to showcase Kazakhstan's rich cultural heritage, promote its national identity, and enhance its standing on the global stage. \n",
            "\n"
          ]
        }
      ],
      "source": [
        "# Cell 12\n",
        "\n",
        "while True:\n",
        "  # Prompts the user to enter the link they want to investigate\n",
        "  link = input(\"Enter the link that you want to be summarized: \")\n",
        "  # Summarizes the contents of the link that might be relevant to the question (helps user to determine whether the link is useful or not)\n",
        "  link_summary = chat_session.send_message(f'Summarize the information in {link} in one paragraph that can be relevant for the question {question}.')\n",
        "  # Outputs Gemini's response\n",
        "  print(link_summary.text)\n",
        "\n",
        "  go_on = input(\"Do you want to check out the summary of another link (1) or go research this one (2)? (Enter 1 or 2) \")\n",
        "  if go_on == '1':\n",
        "    continue\n",
        "  else:\n",
        "    print(\"Bye, happy researching!\")\n",
        "    break"
      ]
    }
  ],
  "metadata": {
    "colab": {
      "provenance": [],
      "collapsed_sections": [
        "RgvSUPoYiogZ",
        "DKqlnW27lQVy"
      ]
    },
    "kernelspec": {
      "display_name": "Python 3",
      "name": "python3"
    },
    "language_info": {
      "name": "python"
    }
  },
  "nbformat": 4,
  "nbformat_minor": 0
}